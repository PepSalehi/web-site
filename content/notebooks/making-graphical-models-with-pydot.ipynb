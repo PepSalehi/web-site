{
 "metadata": {
  "name": "making-graphical-models-with-pydot"
 },
 "nbformat": 3,
 "nbformat_minor": 0,
 "worksheets": [
  {
   "cells": [
    {
     "cell_type": "code",
     "collapsed": false,
     "input": [
      "from IPython.display import Image"
     ],
     "language": "python",
     "metadata": {},
     "outputs": [],
     "prompt_number": 1
    },
    {
     "cell_type": "heading",
     "level": 2,
     "metadata": {},
     "source": [
      "Graphical Models with PyDot"
     ]
    },
    {
     "cell_type": "markdown",
     "metadata": {},
     "source": [
      "**EDIT 6/26/13** Since I've written this post, I've heard about a new project, [daft](http://daft-pgm.org/), for making probabilistic graphical models. I hope to give it a shot soon."
     ]
    },
    {
     "cell_type": "code",
     "collapsed": false,
     "input": [
      "Image('Smoothed_LDA.png')"
     ],
     "language": "python",
     "metadata": {},
     "outputs": [
      {
       "metadata": {},
       "output_type": "pyout",
       "png": "[encoded data removed]",
       "prompt_number": 2,
       "text": [
        "<IPython.core.display.Image at 0x290ccd0>"
       ]
      }
     ],
     "prompt_number": 2
    },
    {
     "cell_type": "markdown",
     "metadata": {},
     "source": [
      "\n",
      "<p style=\"font-size: 90%; text-align: right; color: #ddd; margin-top: -1.5em; padding-bottom: 4px\">Source: Blei, Ng, and Jordan. (2003) \"Latent Dirichlet Allocation\"</p>"
     ]
    },
    {
     "cell_type": "markdown",
     "metadata": {},
     "source": [
      "Graphical models, are a handy way to represent probabilistic models. They are used much more in Bayesian statistics, particularly in hierarchical models when it's convenient to have a quick representation of the various dependencies. In graphical models, the nodes represent random variables of which the shaded ones are observed. The edges denote possible dependencies. The plates denote sequencies. Last week I wanted to create a Directed Graph Model similar to the one below. This post will recreate this graph using [Graphviz](http://www.graphviz.org/) to render a [DOT](http://www.graphviz.org/doc/info/lang.html) file created in [PyDOT](http://code.google.com/p/pydot/).\n",
      "\n",
      "\n",
      "\n",
      "This graph is the total likelihood for a [Latent Dirichlet Allocation model](http://en.wikipedia.org/wiki/Latent_Dirichlet_allocation). Mathematically, this is\n",
      "\n",
      "  $$\\begin{equation}\\begin{split}p(w, \\theta, \\beta, z | \\alpha, \\eta) \\\\\n",
      "   &= \\prod_{k=1}^{K}p\\left(\\beta_{k}|\\eta\\right)\\prod_{m=1}^{M}p\\left(\\theta_{m}|\\alpha\\right)\\left[\\prod_{n=1}^{N}p\\left(z_{m,n}|\\theta_{m}\\right)p\\left(w_{m,n}|z_{m,n},\\beta_{1:K}\\right)\\right]\\end{split}\\end{equation}$$\n",
      "\n",
      "I already have Graphviz installed for use in [Sphinx](http://sphinx.pocoo.org/ext/graphviz.html). It can be installed using apt-get. To use the HTML subscript tag, you need at least version 2.28, so you may have to [install from elsewhere](http://www.graphviz.org/Download.php).\n",
      "\n",
      "    sudo apt-get install graphviz\n",
      "    \n",
      "PyDot can be installed using setuptools.\n",
      "\n",
      "\n",
      "    sudo easy_install pydot\n",
      "\n",
      "\n",
      "I started by reading the [PyMC](http://code.google.com/p/pymc/) source since they use PyDot to generate their graphical models. I spent most of my time in the Graphviz Dot [configuration documentation](http://www.graphviz.org/content/dot-language). Here's what I came up with."
     ]
    },
    {
     "cell_type": "code",
     "collapsed": false,
     "input": [
      "import pydot\n",
      "\n",
      "dot_object = pydot.Dot(graph_name=\"main_graph\",rankdir=\"LR\", labelloc='b', \n",
      "                       labeljust='r', ranksep=1)\n",
      "dot_object.set_node_defaults(shape='circle', fixedsize='true',\n",
      "                             height=.85, width=.85, fontsize=24)"
     ],
     "language": "python",
     "metadata": {},
     "outputs": [],
     "prompt_number": 3
    },
    {
     "cell_type": "markdown",
     "metadata": {},
     "source": [
      "This instantiates the main Graph. It will be created left-to-right (alternatively, you could use 'TB' for top-to-bottom to look like the above example). This Graph will have SubGraphs, or Clusters, for the plates which will inherit *labelloc* and *labeljust*. Then I set the defaults for the Nodes.\n",
      "\n",
      "Now make the nodes for the main graph and attach them."
     ]
    },
    {
     "cell_type": "code",
     "collapsed": false,
     "input": [
      "node_eta = pydot.Node(name='eta', texlbl=r'\\eta', label='<&#951;>')\n",
      "dot_object.add_node(node_eta)\n",
      "\n",
      "node_alpha = pydot.Node(name='alpha', texlbl=r'\\alpha', label=\"<&#945;>\")\n",
      "dot_object.add_node(node_alpha)"
     ],
     "language": "python",
     "metadata": {},
     "outputs": [],
     "prompt_number": 4
    },
    {
     "cell_type": "markdown",
     "metadata": {},
     "source": [
      "You'll notice that the nodes take three parameters -- a name for internal use and *texlbl* and *label* containing $\\TeX$ and HTML denoted by <>, respectively. The texlbl will allow us to use dot2tex to make an output for $LaTeX$, and the HTML will allow us to create images containing Greek letters from their HTML codes. Labels allow [a subset of HTML tags](http://www.graphviz.org/doc/info/shapes.html#html).\n",
      "\n",
      "The plates are called Clusters in DOT. They are a type of SubGraph that provide the borders for the plate notation and are attached as such."
     ]
    },
    {
     "cell_type": "code",
     "collapsed": false,
     "input": [
      "# K plate\n",
      "plate_k = pydot.Cluster(graph_name='plate_k', label='K', fontsize=24)\n",
      "node_beta = pydot.Node(name='beta', texlbl=r'\\beta', label='<&#946;<SUB>k</SUB>>')\n",
      "plate_k.add_node(node_beta)\n",
      "\n",
      "# add plate k to graph\n",
      "dot_object.add_subgraph(plate_k)\n",
      "\n",
      "# M plate\n",
      "plate_M = pydot.Cluster(graph_name='plate_M', label='M', fontsize=24)\n",
      "node_theta = pydot.Node(name='theta', texlbl=r'\\theta',\n",
      "                        label='<&#952;<SUB>m</SUB>>')\n",
      "plate_M.add_node(node_theta)\n",
      "\n",
      "# N plate\n",
      "plate_N = pydot.Cluster(graph_name='plate_N', label='N', fontsize=24)\n",
      "node_z = pydot.Node(name='z', texlbl='z_{m,n}', label='<z<SUB>m,n</SUB>>')\n",
      "plate_N.add_node(node_z)\n",
      "node_w = pydot.Node(name='w', texlbl='w_{m,n}', label='<w<SUB>m,n</SUB>>', \n",
      "                    style='filled', fillcolor='lightgray')\n",
      "plate_N.add_node(node_w)\n",
      "\n",
      "plate_M.add_subgraph(plate_N)\n",
      "dot_object.add_subgraph(plate_M)"
     ],
     "language": "python",
     "metadata": {},
     "outputs": [],
     "prompt_number": 5
    },
    {
     "cell_type": "markdown",
     "metadata": {},
     "source": [
      "This creates the K, M, and N plates and attaches them to the appropriate objects. The last step is to instantiate and add the edges."
     ]
    },
    {
     "cell_type": "code",
     "collapsed": false,
     "input": [
      "# Add the edges\n",
      "dot_object.add_edge(pydot.Edge(node_alpha, node_theta))\n",
      "dot_object.add_edge(pydot.Edge(node_theta, node_z))\n",
      "dot_object.add_edge(pydot.Edge(node_z, node_w))\n",
      "dot_object.add_edge(pydot.Edge(node_w, node_beta, dir='back'))\n",
      "dot_object.add_edge(pydot.Edge(node_beta, node_eta, dir='back'))"
     ],
     "language": "python",
     "metadata": {},
     "outputs": [],
     "prompt_number": 6
    },
    {
     "cell_type": "markdown",
     "metadata": {},
     "source": [
      "You'll notice that we added node_w and node_beta in reverse left-to-right order and specified the attribute dir to be 'back'. This is to maintain the left-to-right orientation and have the edge dependencies make sense.\n",
      "\n",
      "Optionally save the filter in raw form using the dot renderer do"
     ]
    },
    {
     "cell_type": "code",
     "collapsed": false,
     "input": [
      "dot_object.write('graph.dotfile', format='raw', prog='dot')"
     ],
     "language": "python",
     "metadata": {},
     "outputs": [
      {
       "metadata": {},
       "output_type": "pyout",
       "prompt_number": 7,
       "text": [
        "True"
       ]
      }
     ],
     "prompt_number": 7
    },
    {
     "cell_type": "markdown",
     "metadata": {},
     "source": [
      "You also have the option to use other renderers seach as *neato*, *fdp*, and *sfdp*. Unfortunately, each of the renderers has its own strengths and weaknesses with *dot* the most fully featured to my eyes. You can look at this file to get an idea of the DOT language syntax.\n",
      "\n",
      "Now write the graph to a png. You will need a version of graphviz released after after 14, October 2011 for this to work, because of the `<SUB>` HTML tags."
     ]
    },
    {
     "cell_type": "code",
     "collapsed": false,
     "input": [
      "dot_object.write_png('lda_graph.png', prog='dot')"
     ],
     "language": "python",
     "metadata": {},
     "outputs": [
      {
       "metadata": {},
       "output_type": "pyout",
       "prompt_number": 8,
       "text": [
        "True"
       ]
      }
     ],
     "prompt_number": 8
    },
    {
     "cell_type": "code",
     "collapsed": false,
     "input": [
      "from IPython.display import Image\n",
      "Image('lda_graph.png')"
     ],
     "language": "python",
     "metadata": {},
     "outputs": [
      {
       "metadata": {},
       "output_type": "pyout",
       "png": "[encoded data removed]",
       "prompt_number": 9,
       "text": [
        "<IPython.core.display.Image at 0x290cf50>"
       ]
      }
     ],
     "prompt_number": 9
    },
    {
     "cell_type": "markdown",
     "metadata": {},
     "source": [
      "If you want to render the image to pdf, you can install [dot2tex](http://www.fauskes.net/code/dot2tex/).\n",
      "\n",
      "    sudo apt-get install dot2tex\n",
      "    \n",
      "To go from DOT to $\\TeX$ do"
     ]
    },
    {
     "cell_type": "code",
     "collapsed": false,
     "input": [
      "import dot2tex as d2t\n",
      "texcode = d2t.dot2tex(dot_object.to_string(), format='tikz', crop=True)"
     ],
     "language": "python",
     "metadata": {},
     "outputs": [],
     "prompt_number": 10
    },
    {
     "cell_type": "markdown",
     "metadata": {},
     "source": [
      "And then write it to a file."
     ]
    },
    {
     "cell_type": "code",
     "collapsed": false,
     "input": [
      "fout = open(\"img.tex\", 'w')\n",
      "fout.write(texcode)\n",
      "fout.close()"
     ],
     "language": "python",
     "metadata": {},
     "outputs": [],
     "prompt_number": 11
    },
    {
     "cell_type": "markdown",
     "metadata": {},
     "source": [
      "Then make a *pdf* and optionally convert this to a *png*\n",
      "\n",
      "    pdflatex img.tex && pdftops -eps img.pdf && convert -density 300 img.eps img.png\n",
      "\n",
      "I wasn't particularly happy with the layout and wanted a little more control over the padding and label placement not to mention some easier $TeX$ integration. I suppose you could edit the img.tex file for a bit more control, but I haven't seen any other really good open source solutions for more fine-grained control. I'd be happy to hear about any in the comments though.\n",
      "\n",
      "One that I came across has you converting the DOT object to xml with [dottoxml](http://www.mydarc.de/dl9obn/programming/python/dottoxml/) and using [yEd](http://www.yworks.com/en/products_yed_about.html). I tried this but it isn't the solution I'm looking for particularly because yEd doesn't have built-in support for $LaTeX$ either.\n",
      "\n",
      "I've thought about and implemented a couple of solutions using matplotlib. I'll put up my solution in a future post. But I'd be really interested to hear from some real matplotlib pros. Particularly, if anyone has any library code for padding between different nested objects in a plot like this."
     ]
    }
   ],
   "metadata": {}
  }
 ]
}